{
 "cells": [
  {
   "cell_type": "markdown",
   "id": "aeef0dc2-b8e3-4418-bfe9-f3eb43de6a9b",
   "metadata": {
    "deletable": false,
    "editable": false,
    "nbgrader": {
     "cell_type": "markdown",
     "checksum": "0f52da9e66c40b93e9f6ea9758d98aa8",
     "grade": false,
     "grade_id": "ml-tp4-2024",
     "locked": true,
     "schema_version": 3,
     "solution": false,
     "task": false
    }
   },
   "source": [
    "# IS318 - Machine learning\n",
    "\n",
    "## TP4 (durée 1h20)\n",
    "\n",
    "L'objectif de ce TP est d'illustrer vos connaissances et compétences en *machine learning* en les mettant en pratique sur un jeu de données.\n",
    "Il s'agira de prendre en main le jeu de données, d'appliquer des algorithmes d'apprentissage et d'essayer d'obtenir les meilleurs résultats possible sur un ensemble de test caché.\n",
    "\n",
    "Comme pour les précédents TP, l'essentiel de l'évaluation portera sur la qualité de votre démarche méthodologique et la clarté de vos explications. Quelques points seront attribués en fonction des résultats obtenus sur l'ensemble de test, mais la rigueur de votre approche et la justification de vos choix resteront primordiales."
   ]
  },
  {
   "cell_type": "code",
   "execution_count": 158,
   "id": "3bd655f6-75cf-4dc3-85b5-c7b641bddeab",
   "metadata": {
    "deletable": false,
    "editable": false,
    "nbgrader": {
     "cell_type": "code",
     "checksum": "afaa3c0f0e7f002874751687ff41f8c9",
     "grade": false,
     "grade_id": "cell-ff1cd662f75d6703",
     "locked": true,
     "schema_version": 3,
     "solution": false,
     "task": false
    }
   },
   "outputs": [],
   "source": [
    "import numpy as np\n",
    "import matplotlib.pyplot as plt\n",
    "import sklearn\n",
    "\n",
    "X = np.load('X.npy')\n",
    "y = np.load('y.npy')"
   ]
  },
  {
   "cell_type": "markdown",
   "id": "a662d9d7-c30e-46c5-9cf4-1fe27f694f4b",
   "metadata": {
    "deletable": false,
    "editable": false,
    "nbgrader": {
     "cell_type": "markdown",
     "checksum": "b0c1ae3aedae752975f3acda03bda496",
     "grade": false,
     "grade_id": "cell-12f9bb502c222791",
     "locked": true,
     "schema_version": 3,
     "solution": false,
     "task": false
    }
   },
   "source": [
    "## 1. Jeu de données (~10 min)"
   ]
  },
  {
   "cell_type": "markdown",
   "id": "6d4361bb-f954-40b5-91f7-6068e6271c63",
   "metadata": {
    "deletable": false,
    "editable": false,
    "nbgrader": {
     "cell_type": "markdown",
     "checksum": "03e3714c24ee71df1896b47eca4a4b13",
     "grade": false,
     "grade_id": "dataset",
     "locked": true,
     "points": 3,
     "schema_version": 3,
     "solution": false,
     "task": true
    }
   },
   "source": [
    "**(Question)** Explorez le jeu de données. Proposez une visualisation de quelques échantillons du jeu de données. Expliquez brièvement ce que les données représentent et comment elles sont organisées. Que remarquez-vous ?"
   ]
  },
  {
   "cell_type": "code",
   "execution_count": 159,
   "id": "182c9bc1-f459-4be9-92a2-6906685690cc",
   "metadata": {},
   "outputs": [
    {
     "name": "stdout",
     "output_type": "stream",
     "text": [
      "(2000, 28, 28)\n",
      "(2000,)\n"
     ]
    },
    {
     "data": {
      "image/png": "[encoded data removed]",
      "text/plain": [
       "<Figure size 1000x500 with 10 Axes>"
      ]
     },
     "metadata": {},
     "output_type": "display_data"
    },
    {
     "name": "stdout",
     "output_type": "stream",
     "text": [
      "Number of unique numbers: 10\n",
      "(2000, 784)\n"
     ]
    }
   ],
   "source": [
    "print(X.shape)\n",
    "print(y.shape)\n",
    "\n",
    "# print(X[0]) # To see values from 0 to 255\n",
    "\n",
    "plt.figure(figsize=(10, 5))\n",
    "random_indexes = np.random.choice(X.shape[0], size=10, replace=False)\n",
    "for i, image_index in enumerate(random_indexes):\n",
    "    plt.subplot(2, 5, i + 1)\n",
    "    plt.imshow(X[image_index], cmap=plt.cm.gray)\n",
    "    plt.title(f\"Number {y[image_index]}\")\n",
    "    plt.axis('off')\n",
    "plt.show()\n",
    "unique_y = len(np.unique(y))\n",
    "print(f\"Number of unique numbers: {unique_y}\")\n",
    "\n",
    "rng = np.random.default_rng(42)\n",
    "permuted_indices = rng.permutation(len(X))\n",
    "\n",
    "# Apply the permutation to both X and y\n",
    "X = X[permuted_indices]\n",
    "y = y[permuted_indices]\n",
    "\n",
    "\n",
    "X_train_mean = X.mean(axis=0)\n",
    "X_train_std = X.std(axis=0)\n",
    "\n",
    "# print(\"std:\", X_train_std)\n",
    "\n",
    "X = X / 255\n",
    "X_flat = X.reshape((-1,28*28))\n",
    "print(X_flat.shape)\n",
    "# X_test = (X_test - X_train_mean) / X_train_std  # Do the same for test data."
   ]
  },
  {
   "cell_type": "markdown",
   "id": "3729271f",
   "metadata": {},
   "source": [
    "The presented dataset is a dataset of 2000 hand-drawn numbers in the form of an image 28x28 pixels. The range of values in the pixels values varies between 0 and 255. These values are generaly bad for machine learning algorithms that is why we need to normalize them.\n",
    "\n",
    "\n",
    "This dataset was given with a groud truth label for each image containing 2000 instances where each instance is the true class of the given image."
   ]
  },
  {
   "cell_type": "markdown",
   "id": "f0ec7535-f6e2-4b63-986a-d126ae198f5a",
   "metadata": {
    "deletable": false,
    "editable": false,
    "nbgrader": {
     "cell_type": "markdown",
     "checksum": "76599fab3d90b056814a3e76901cb9cc",
     "grade": false,
     "grade_id": "cell-c3dd39341ed31d09",
     "locked": true,
     "schema_version": 3,
     "solution": false,
     "task": false
    }
   },
   "source": [
    "## 2. Algorithme d'apprentissage (~20 min)"
   ]
  },
  {
   "cell_type": "markdown",
   "id": "695e1caf-ed9f-437c-9fd8-169cfc0709f1",
   "metadata": {
    "deletable": false,
    "editable": false,
    "nbgrader": {
     "cell_type": "markdown",
     "checksum": "c9520a439d9046034fbfc3032acaf451",
     "grade": false,
     "grade_id": "first-model",
     "locked": true,
     "points": 3,
     "schema_version": 3,
     "solution": false,
     "task": true
    }
   },
   "source": [
    "**(Question)** Choisissez un algorithme d'apprentissage approprié et appliquez-le pour obtenir un premier résultat de référence.\n",
    "Expliquez brièvement comment cet algorithme fonctionne pour ce problème, et montrez ce qu'il a appris.\n",
    "Rapportez, analysez et discutez les résultats."
   ]
  },
  {
   "cell_type": "code",
   "execution_count": 160,
   "id": "492a2f64-eba1-4b14-8459-faf0e0ef45b7",
   "metadata": {},
   "outputs": [
    {
     "name": "stdout",
     "output_type": "stream",
     "text": [
      "Cross-validation scores: [0.76, 0.77, 0.715, 0.79, 0.825, 0.665, 0.785, 0.79, 0.675, 0.745]\n",
      "RBF SVM 10 folds mean accuracy: 75.20% +-4.96%\n"
     ]
    }
   ],
   "source": [
    "from sklearn.model_selection import train_test_split, KFold, GridSearchCV\n",
    "from sklearn.svm import SVC\n",
    "\n",
    "cross_validator = KFold(n_splits=10)\n",
    "\n",
    "classifier = SVC() # All default parameters (kernel='rbf', C=1.0, ...)\n",
    "\n",
    "\n",
    "def run_cross_validation(X, y, cross_validator, model):\n",
    "  scores = []\n",
    "  for train_index, val_index in cross_validator.split(X):\n",
    "    X_train, X_val = X[train_index], X[val_index]\n",
    "    y_train, y_val = y[train_index], y[val_index]\n",
    "\n",
    "    model.fit(X_train, y_train)\n",
    "    score = model.score(X_val, y_val)\n",
    "    scores.append(score)\n",
    "\n",
    "  return scores\n",
    "\n",
    "scores = run_cross_validation(X_flat, y, cross_validator, classifier)\n",
    "print(f\"Cross-validation scores: {scores}\")\n",
    "print(f\"RBF SVM 10 folds mean accuracy: {np.mean(scores) * 100:.2f}% +-{np.std(scores) * 100:.2f}%\")"
   ]
  },
  {
   "cell_type": "markdown",
   "id": "b5c598b0",
   "metadata": {},
   "source": [
    "For this particular problem I chose to use a simple Suport Vector Machine (SVM) that separates the images represented as vectors of size 28x28 (num_features). The SVM tries to separate the classes in the high dimentional space of 28x28 using a hyperplan (for exmaple in 3D we would use a plane) while trying to stay as far as possible from all classes the points of the different classes.\n",
    "\n",
    "Since the data is relatively small (2000) I decided to use a cross validation to simulate a high data and get a more precise accuracy score for my svm model. This choice proved to be the right one since the values for each cross validation split varies a lot averaging to a 69.25%."
   ]
  },
  {
   "cell_type": "markdown",
   "id": "8fc082ca-02bd-4aab-acd5-2a744583b1b5",
   "metadata": {
    "deletable": false,
    "editable": false,
    "nbgrader": {
     "cell_type": "markdown",
     "checksum": "d080aaf46ced4b719ad6279b54128584",
     "grade": false,
     "grade_id": "first-model-hyperparameters",
     "locked": true,
     "points": 3,
     "schema_version": 3,
     "solution": false,
     "task": true
    }
   },
   "source": [
    "**(Question)** Optimisez les hyperparamètres de votre modèle en utilisant un protocole approprié.\n",
    "Rapportez, analysez et discutez les résultats."
   ]
  },
  {
   "cell_type": "code",
   "execution_count": 161,
   "id": "60ed3aa5-bd2d-46a2-b617-689378288713",
   "metadata": {},
   "outputs": [
    {
     "data": {
      "image/png": "[encoded data removed]",
      "text/plain": [
       "<Figure size 800x600 with 2 Axes>"
      ]
     },
     "metadata": {},
     "output_type": "display_data"
    },
    {
     "name": "stdout",
     "output_type": "stream",
     "text": [
      "Best parameters: {'C': 10, 'kernel': 'rbf'}\n",
      "Best score: 0.7905\n"
     ]
    }
   ],
   "source": [
    "grid_search_params = {\n",
    "    'C' : [1, 10, 50],\n",
    "    'kernel' : ['linear', 'poly', 'rbf']\n",
    "}\n",
    "param1_size = len(grid_search_params['C'])\n",
    "param2_size = len(grid_search_params['kernel'])\n",
    "\n",
    "classifier = SVC()\n",
    "grid_search = GridSearchCV(classifier, grid_search_params, cv=cross_validator)\n",
    "grid_search.fit(X_flat, y)\n",
    "\n",
    "# Plotting the results of the grid search\n",
    "scores = grid_search.cv_results_['mean_test_score'].reshape(param1_size, param2_size).T\n",
    "\n",
    "fig, ax = plt.subplots(figsize=(8, 6))\n",
    "cax = ax.imshow(scores, cmap='viridis', aspect='auto')\n",
    "fig.colorbar(cax)\n",
    "ax.set_xticks(np.arange(param1_size))\n",
    "ax.set_yticks(np.arange(param2_size))\n",
    "ax.set_xticklabels(grid_search_params['C'])\n",
    "ax.set_yticklabels(grid_search_params['kernel'])\n",
    "plt.xticks(rotation=45)\n",
    "for i in range(param2_size):\n",
    "    for j in range(param1_size):\n",
    "        ax.text(j, i, f'{scores[i, j]:.3f}', ha='center', va='center', color='black')\n",
    "ax.set_xlabel('C (Soft margin parameter)')\n",
    "ax.set_ylabel('kernel')\n",
    "ax.set_title('Grid Search Results: Mean Test Scores')\n",
    "plt.tight_layout()\n",
    "plt.show()\n",
    "\n",
    "print(f\"Best parameters: {grid_search.best_params_}\")\n",
    "print(f\"Best score: {grid_search.best_score_}\")"
   ]
  },
  {
   "cell_type": "markdown",
   "id": "ab42230f",
   "metadata": {},
   "source": [
    "To improve the performance of our SVM model we opted for a grid search which creates all the possible combinations of hyper parameters given to it and runs the cross validation on that particular model.\n",
    "\n",
    "From the figure displayed we can conclude that the simple SVM model doesn't perform well on the given images since all the accuracy values are very low ($<0.718$).\n",
    "In the category of SVMs the best hyperparameter combination would be Kernel -> rbf and soft margin -> 10."
   ]
  },
  {
   "cell_type": "markdown",
   "id": "d0e8e793-5a43-4475-94a2-ba5a4c653ebd",
   "metadata": {
    "deletable": false,
    "editable": false,
    "nbgrader": {
     "cell_type": "markdown",
     "checksum": "95df06ca929e343eda98e8e54c3123e9",
     "grade": false,
     "grade_id": "cell-bbe954ed341621fc",
     "locked": true,
     "schema_version": 3,
     "solution": false,
     "task": false
    }
   },
   "source": [
    "## 3. Évaluation comparative (~20 min)"
   ]
  },
  {
   "cell_type": "markdown",
   "id": "620cd31f-3145-4e8e-8855-016e8802e864",
   "metadata": {
    "deletable": false,
    "editable": false,
    "nbgrader": {
     "cell_type": "markdown",
     "checksum": "9babf167570be366a182c1d70a20a5b5",
     "grade": false,
     "grade_id": "comparative-model",
     "locked": true,
     "points": 4,
     "schema_version": 3,
     "solution": false,
     "task": true
    }
   },
   "source": [
    "**(Question)** Appliquez un autre algorithme d'apprentissage approprié sur le même jeu de données.\n",
    "Expliquez brièvement comment cet algorithme fonctionne pour ce problème, et montrez ce qu'il a appris.\n",
    "Rapportez, analysez et discutez les résultats.\n",
    "Comparez-les à ceux obtenus pour le modèle précédent."
   ]
  },
  {
   "cell_type": "code",
   "execution_count": 162,
   "id": "7fddc2ae",
   "metadata": {},
   "outputs": [],
   "source": [
    "import sklearn\n",
    "import sklearn.cluster\n",
    "import sklearn.datasets\n",
    "from sklearn.model_selection import train_test_split, KFold, GridSearchCV\n",
    "import skimage.feature\n",
    "import skimage.io\n",
    "from sklearn.svm import SVC\n",
    "\n",
    "import numpy as np\n",
    "import matplotlib.pyplot as plt\n",
    "\n",
    "from skimage import exposure\n",
    "\n",
    "np.random.seed(42)\n",
    "\n",
    "def hog_features(image, visualize=False):\n",
    "    # Return a list of HOG features for a given image\n",
    "    features = skimage.feature.hog(image, pixels_per_cell=(4, 4), cells_per_block=(1, 1),\n",
    "                                   block_norm='L2-Hys', feature_vector=False, visualize=visualize)\n",
    "    if visualize:\n",
    "        return features[1]\n",
    "    features = features.reshape(-1, features.shape[-1])\n",
    "    return features\n",
    "\n",
    "# ! The image was splited into 4x4 patches, and each patch has 9 features. Which means that in a 28x28 image.\n",
    "# ! The 9 features are the histogram of gradients for each patch where each value is the oriented gradient value in a certain range.\n",
    "# ! For example with 9 features (orientation bins) we would have 180/9 = 20 degrees per bin. \n",
    "# ! So the first bin would represent the gradients from 0 to 20 degrees, the second from 20 to 40, etc.\n",
    "\n",
    "\n",
    "from sklearn.cluster import MiniBatchKMeans, KMeans\n",
    "\n",
    "def build_vocabulary(features, voc_size=100):\n",
    "    # Cluster features into a visual vocabulary with K-Means algorithm,\n",
    "    # then return the trained classified object.\n",
    "    # You can use the MiniBatchKMeans class for very similar results \n",
    "    # but faster run time\n",
    "    kmeans = KMeans(n_clusters=voc_size, random_state=42)\n",
    "    # kmeans = MiniBatchKMeans(n_clusters=voc_size, random_state=42)\n",
    "    kmeans.fit(features)\n",
    "    return kmeans\n",
    "\n",
    "def build_codebook(features, vocabulary):\n",
    "    # Given a vocabulary of visual words (KMeans classifier object),\n",
    "    # compute the codebook (histogram) of the set of features for an image\n",
    "    voc_size = len(vocabulary.cluster_centers_)\n",
    "    codebook = np.zeros((len(features), voc_size))\n",
    "    for i, f in enumerate(features):\n",
    "        assignemnts = vocabulary.predict(f)\n",
    "        for k in range(voc_size):\n",
    "            codebook[i][k] = len(np.where(assignemnts == k)[0])\n",
    "    codebook = codebook / codebook.sum(axis=1)[:, np.newaxis] # normalization\n",
    "    return codebook"
   ]
  },
  {
   "cell_type": "code",
   "execution_count": 163,
   "id": "aff60271",
   "metadata": {},
   "outputs": [
    {
     "name": "stdout",
     "output_type": "stream",
     "text": [
      "Original image shape : (28, 28)\n",
      "HOG feature shape : (49, 9)\n"
     ]
    }
   ],
   "source": [
    "\n",
    "print(f\"Original image shape : {X[0].shape}\")\n",
    "hog_f = hog_features(X[0])\n",
    "print(f\"HOG feature shape : {hog_f.shape}\")"
   ]
  },
  {
   "cell_type": "code",
   "execution_count": 164,
   "id": "498c155f-7cbe-4420-bd62-0a5ec14b218a",
   "metadata": {},
   "outputs": [
    {
     "data": {
      "image/png": "[encoded data removed]",
      "text/plain": [
       "<Figure size 1500x1500 with 4 Axes>"
      ]
     },
     "metadata": {},
     "output_type": "display_data"
    }
   ],
   "source": [
    "# ! Plotting the hog features of each images and visualizing it.\n",
    "\n",
    "plt.figure(figsize=(15, 15))\n",
    "random_indexes = np.random.choice(len(X), size=2, replace=False)\n",
    "for i, image_index in enumerate(random_indexes):\n",
    "    # Original image\n",
    "    plt.subplot(5, 4, 2 * i + 1)\n",
    "    plt.imshow(X[image_index])\n",
    "    # print(images[image_index].shape) # (256, 256, 3)\n",
    "    plt.title(f\"Image {image_index}: Type {y[image_index]}\")\n",
    "    plt.axis('off')\n",
    "    \n",
    "    # HOG features\n",
    "    plt.subplot(5, 4, 2 * i + 2)\n",
    "    image_rescaled = hog_features(X[image_index], visualize=True)\n",
    "    # print(image_rescaled.shape) # (256, 256) \n",
    "    hog_image_rescaled = exposure.rescale_intensity(image_rescaled, in_range=(0, 10))\n",
    "    plt.imshow(hog_image_rescaled, cmap=plt.cm.gray)\n",
    "    plt.title(f\"Image {image_index}: HOG conversion \")\n",
    "    plt.axis('off')\n",
    "plt.tight_layout()\n",
    "plt.show()"
   ]
  },
  {
   "cell_type": "code",
   "execution_count": 165,
   "id": "e9abb25e",
   "metadata": {},
   "outputs": [
    {
     "name": "stdout",
     "output_type": "stream",
     "text": [
      "codebook shape: (2000, 100)\n"
     ]
    }
   ],
   "source": [
    "# Computation of the HOG features for all the images\n",
    "X_train_hog_features = []\n",
    "for i in range(len(X)):\n",
    "    X_train_hog_features.append(hog_features(X[i]))\n",
    "    \n",
    "X_train_hog_features_ = np.array(X_train_hog_features)\n",
    "X_train_hog_features = X_train_hog_features_.reshape(-1,9)    \n",
    "   \n",
    "\n",
    "# Build the vocabulary from train features\n",
    "vocabulary = build_vocabulary(X_train_hog_features, voc_size=100)\n",
    "\n",
    "\n",
    "# Build the codebooks for train and test features into X_train variables \n",
    "X_train = build_codebook(X_train_hog_features_, vocabulary)\n",
    "print(f\"codebook shape: {X_train.shape}\")"
   ]
  },
  {
   "cell_type": "code",
   "execution_count": 166,
   "id": "f56da6c1",
   "metadata": {},
   "outputs": [
    {
     "name": "stdout",
     "output_type": "stream",
     "text": [
      "Cross-validation scores: [0.26, 0.35, 0.345, 0.385, 0.27, 0.34, 0.32, 0.305, 0.23, 0.275]\n",
      "RBF SVM mean accuracy: 30.80% +-4.60%\n"
     ]
    }
   ],
   "source": [
    "n_splits=10\n",
    "cross_validator = KFold(n_splits=n_splits)\n",
    "\n",
    "classifier = SVC() # All default parameters (kernel='rbf', C=1.0, ...)\n",
    "\n",
    "scores = run_cross_validation(X_train, y, cross_validator, classifier)\n",
    "print(f\"Cross-validation scores: {scores}\")\n",
    "print(f\"RBF SVM mean accuracy: {np.mean(scores) * 100:.2f}% +-{np.std(scores) * 100:.2f}%\")"
   ]
  },
  {
   "cell_type": "markdown",
   "id": "fe29a1d6",
   "metadata": {},
   "source": [
    "The second algorithm i chose to use was the BOW (bag of words) approch that instead of representing images as an instance with 28x28 features we will now take each image and represent it as a set of gradient histograms also called Histogram of Oriented Gradients (HOG) which represents a caracterises a sub-image (patch).\n",
    "\n",
    "\n",
    "Our BOW approch has given us a average accuracy score of 44.50% with the cross validation technique, which is worse than the best SVM model. We think that this bad performance is due to the large noise in the images which falsifies the results of the gradient in each patch and also the multitude of hyper parameters in our BOW method like the clustering algortihm, the patch size and the vocabulary size."
   ]
  },
  {
   "cell_type": "markdown",
   "id": "d8787250-06d6-4d5a-996a-cd5433d0f8a9",
   "metadata": {
    "deletable": false,
    "editable": false,
    "nbgrader": {
     "cell_type": "markdown",
     "checksum": "92f388fb854ff367e2759d96ae461f8c",
     "grade": false,
     "grade_id": "cell-a13b923909abc135",
     "locked": true,
     "schema_version": 3,
     "solution": false,
     "task": false
    }
   },
   "source": [
    "## 4. Amélioration des performances (~25 min)"
   ]
  },
  {
   "cell_type": "markdown",
   "id": "b52df889-a04b-40df-a43d-e23da2590eac",
   "metadata": {
    "deletable": false,
    "editable": false,
    "nbgrader": {
     "cell_type": "markdown",
     "checksum": "3c150c051f5aee91b96aa544646237c2",
     "grade": false,
     "grade_id": "performance",
     "locked": true,
     "points": 4,
     "schema_version": 3,
     "solution": false,
     "task": true
    }
   },
   "source": [
    "**(Question)** Essayez d'obtenir les meilleurs résultats possibles sur ce jeu de données, en expliquant votre démarche. À défaut, suggérez des pistes d'amélioration."
   ]
  },
  {
   "cell_type": "code",
   "execution_count": 167,
   "id": "576d017e-fe09-4db2-9ee9-8b28d3a6dfd6",
   "metadata": {},
   "outputs": [
    {
     "data": {
      "image/png": "[encoded data removed]",
      "text/plain": [
       "<Figure size 1000x500 with 1 Axes>"
      ]
     },
     "metadata": {},
     "output_type": "display_data"
    }
   ],
   "source": [
    "def build_vocabulary(features, voc_size=100):\n",
    "    # Cluster features into a visual vocabulary with K-Means algorithm,\n",
    "    # then return the trained classified object.\n",
    "    # You can use the MiniBatchKMeans class for very similar results \n",
    "    # but faster run time\n",
    "    # kmeans = KMeans(n_clusters=voc_size, random_state=42)\n",
    "    kmeans = MiniBatchKMeans(n_clusters=voc_size, random_state=42)\n",
    "    kmeans.fit(features)\n",
    "    return kmeans\n",
    "\n",
    "def wcss_kmeans(voc_size=100):\n",
    "    # Build the vocabulary from train features\n",
    "    vocabulary = build_vocabulary(X_train_hog_features, voc_size)\n",
    "    return vocabulary.inertia_\n",
    "\n",
    "wcss = [wcss_kmeans(voc_size) for voc_size in range(9, 200, 10)]\n",
    "\n",
    "\n",
    "plt.figure(figsize=(10, 5))\n",
    "plt.plot(range(9, 200, 10), wcss, marker='o')\n",
    "plt.xlabel('Number of Clusters (voc_size)')\n",
    "plt.ylabel('WCSS (Within-Cluster Sum of Squares)')\n",
    "plt.title('Elbow Method For Optimal voc_size')\n",
    "plt.show()"
   ]
  },
  {
   "cell_type": "markdown",
   "id": "e5656bef",
   "metadata": {},
   "source": [
    "As explained previously there is a lot of hyper parameters that we need to tune in order to obtain the best BOW method. We decided to optimize the number of clusters in the kmeans clustering algorithm. And to do that we used the elbow method which represents the inetia of the kmeans model (wcss) compared to the number of clusters. The point where the curve breaks is the best number of clusters to use.\n",
    "\n",
    "We tried the elbow method but no clear breaking point is visible, therefore we propose trying different combination of hyper parameters (example : clustering algorithm, patch size) or try an advanced method to finding the optimal vocabulary size like the method of the silhouette, which measures how close a point is to its nearest neighbor points, across all clusters."
   ]
  },
  {
   "cell_type": "markdown",
   "id": "75222625-3974-4dc0-bf18-e5e0f1e43d6d",
   "metadata": {
    "deletable": false,
    "editable": false,
    "nbgrader": {
     "cell_type": "markdown",
     "checksum": "4996555fb7ab00fd4dd05da17a5a120e",
     "grade": false,
     "grade_id": "cell-2d7be3a75e1d42ff",
     "locked": true,
     "schema_version": 3,
     "solution": false,
     "task": false
    }
   },
   "source": [
    "## 5. Prédictions sur l'ensemble de test (~5 min)"
   ]
  },
  {
   "cell_type": "markdown",
   "id": "fb4cc910-2725-4ee3-a084-a25fcc365bcb",
   "metadata": {
    "deletable": false,
    "editable": false,
    "nbgrader": {
     "cell_type": "markdown",
     "checksum": "bd8386950750c59f5e962d95d1d0c1ff",
     "grade": false,
     "grade_id": "test-predictions",
     "locked": true,
     "points": 3,
     "schema_version": 3,
     "solution": false,
     "task": true
    }
   },
   "source": [
    "**(Question)** Préparez et utilisez votre meilleur modèle pour obtenir les prédictions sur l'ensemble de test (fourni à la fin du TP).\n",
    "Stockez les prédictions dans le même format que les labels `y` fournis au début du TP, et enregistrez-les dans un fichier nommé `y_test_preds.npy` à l'aide de la fonction `np.save`."
   ]
  },
  {
   "cell_type": "code",
   "execution_count": 168,
   "id": "26e7919d-5415-4cba-bc43-1f86ecfbc403",
   "metadata": {
    "deletable": false,
    "nbgrader": {
     "cell_type": "code",
     "checksum": "96acbf4216d5b354e373c9b83e194595",
     "grade": true,
     "grade_id": "test-predictions-code",
     "locked": false,
     "points": 0,
     "schema_version": 3,
     "solution": true,
     "task": false
    }
   },
   "outputs": [
    {
     "name": "stdout",
     "output_type": "stream",
     "text": [
      "(1000, 784)\n"
     ]
    }
   ],
   "source": [
    "X_test = np.load('X_test.npy')\n",
    "\n",
    "X_test = X_test / 255\n",
    "X_X_flat = X_test.reshape((-1,28*28))# Normalize the test set\n",
    "\n",
    "\n",
    "classifier = SVC(kernel='rbf', C=10)\n",
    "classifier.fit(X_flat, y)\n",
    "print(X_X_flat.shape)\n",
    "\n",
    "y_test_preds = classifier.predict(X_X_flat)\n",
    "\n",
    "np.save('y_test_preds.npy', y_test_preds)"
   ]
  },
  {
   "cell_type": "markdown",
   "id": "6c6e3e8f-6d25-42d3-b6f8-3cdfd23af6b0",
   "metadata": {
    "deletable": false,
    "editable": false,
    "nbgrader": {
     "cell_type": "markdown",
     "checksum": "1a1642ef684a537fc8795e52459f02ee",
     "grade": false,
     "grade_id": "cell-7dc5dca2d54a2fc3",
     "locked": true,
     "schema_version": 3,
     "solution": false,
     "task": false
    }
   },
   "source": [
    "Vérification du format de votre fichier de prédictions :"
   ]
  },
  {
   "cell_type": "code",
   "execution_count": 169,
   "id": "2ef46e24-759a-4769-88a1-50a2ec35a553",
   "metadata": {
    "deletable": false,
    "editable": false,
    "nbgrader": {
     "cell_type": "code",
     "checksum": "8508d01d75333f280b5e6063459e597f",
     "grade": false,
     "grade_id": "verif-test-predictions",
     "locked": true,
     "schema_version": 3,
     "solution": false,
     "task": false
    }
   },
   "outputs": [],
   "source": [
    "y_test_preds = np.load('y_test_preds.npy')\n",
    "assert y_test_preds.dtype == y.dtype\n",
    "assert y_test_preds.ndim == y.ndim\n",
    "assert y_test_preds.shape[0] == X_test.shape[0]"
   ]
  },
  {
   "cell_type": "markdown",
   "id": "3e117971-7f6e-48cc-8ca3-bf06c9bc9347",
   "metadata": {
    "deletable": false,
    "editable": false,
    "nbgrader": {
     "cell_type": "markdown",
     "checksum": "cfb1f54b7cbdefb007d5ba2e06fb9643",
     "grade": false,
     "grade_id": "archive",
     "locked": true,
     "schema_version": 3,
     "solution": false,
     "task": false
    }
   },
   "source": [
    "Faites une archive de votre travail avec la commande : `tar cvzf ml-tp4.tgz ml-tp4.ipynb y_test_preds.npy`"
   ]
  }
 ],
 "metadata": {
  "kernelspec": {
   "display_name": "base",
   "language": "python",
   "name": "python3"
  },
  "language_info": {
   "codemirror_mode": {
    "name": "ipython",
    "version": 3
   },
   "file_extension": ".py",
   "mimetype": "text/x-python",
   "name": "python",
   "nbconvert_exporter": "python",
   "pygments_lexer": "ipython3",
   "version": "3.12.2"
  }
 },
 "nbformat": 4,
 "nbformat_minor": 5
}
